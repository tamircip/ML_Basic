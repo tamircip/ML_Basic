{
 "cells": [
  {
   "cell_type": "markdown",
   "metadata": {},
   "source": [
    "# option 1: \n",
    "replace values with one of the strategies. for this - use sklearn.SimplueImputer()\n",
    "\n",
    "# option 2: \n",
    "remove rows with a lot of missing values\n",
    "# option 3: \n",
    "remove features (columns) with a lot of missing values"
   ]
  },
  {
   "cell_type": "code",
   "execution_count": 2,
   "metadata": {},
   "outputs": [],
   "source": [
    "import numpy as np\n",
    "from sklearn.impute import SimpleImputer"
   ]
  },
  {
   "cell_type": "code",
   "execution_count": null,
   "metadata": {},
   "outputs": [],
   "source": [
    "#impute with mean all 0 readings\n",
    "\n",
    "# Strategy Options:\n",
    "# \"mean\", \"median\", \"most_frequent\", \"constant\"\n",
    "fill = SimpleImputer(missing_values = 0 , strategy =\"mean\", axis=0)\n",
    "\n",
    "X_train = fill.fit_transform(X_train)\n",
    "X_test = fill.fit_transform(X_test)"
   ]
  }
 ],
 "metadata": {
  "kernelspec": {
   "display_name": "Python 3",
   "language": "python",
   "name": "python3"
  },
  "language_info": {
   "codemirror_mode": {
    "name": "ipython",
    "version": 3
   },
   "file_extension": ".py",
   "mimetype": "text/x-python",
   "name": "python",
   "nbconvert_exporter": "python",
   "pygments_lexer": "ipython3",
   "version": "3.7.6"
  }
 },
 "nbformat": 4,
 "nbformat_minor": 4
}
