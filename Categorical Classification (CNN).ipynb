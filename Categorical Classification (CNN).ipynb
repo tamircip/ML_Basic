{
 "cells": [
  {
   "cell_type": "code",
   "execution_count": 1,
   "metadata": {},
   "outputs": [],
   "source": [
    "import numpy as np\n",
    "import pandas as pd\n",
    "import matplotlib.pyplot as plt\n",
    "import tensorflow as tf\n",
    "from tensorflow.keras.models import Model\n",
    "from tensorflow.keras.layers import Input, Dense, Conv2D, Dropout, Flatten, MaxPooling2D, BatchNormalization\n",
    "from tensorflow.keras.optimizers import SGD"
   ]
  },
  {
   "cell_type": "code",
   "execution_count": 2,
   "metadata": {},
   "outputs": [],
   "source": [
    "(x_train, y_train), (x_test, y_test) = tf.keras.datasets.cifar100.load_data()\n",
    "x_train, x_test = x_train /255.0, x_test/255.0\n",
    "y_train, y_test = y_train.flatten(), y_test.flatten()"
   ]
  },
  {
   "cell_type": "code",
   "execution_count": 3,
   "metadata": {},
   "outputs": [
    {
     "data": {
      "text/plain": [
       "(32, 32, 3)"
      ]
     },
     "execution_count": 3,
     "metadata": {},
     "output_type": "execute_result"
    }
   ],
   "source": [
    "x_train[0].shape"
   ]
  },
  {
   "cell_type": "code",
   "execution_count": 4,
   "metadata": {},
   "outputs": [
    {
     "data": {
      "text/plain": [
       "array([19, 29,  0, ...,  3,  7, 73])"
      ]
     },
     "execution_count": 4,
     "metadata": {},
     "output_type": "execute_result"
    }
   ],
   "source": [
    "y_train"
   ]
  },
  {
   "cell_type": "code",
   "execution_count": 5,
   "metadata": {},
   "outputs": [],
   "source": [
    "# Get number of available classes\n",
    "K = len(set(y_train))"
   ]
  },
  {
   "cell_type": "code",
   "execution_count": 6,
   "metadata": {},
   "outputs": [],
   "source": [
    "# Build the model using the functional API\n",
    "i = Input(shape=x_train[0].shape)\n",
    "# x = Conv2D(32, (3, 3), strides=2, activation='relu')(i)\n",
    "# x = Conv2D(64, (3, 3), strides=2, activation='relu')(x)\n",
    "# x = Conv2D(128, (3, 3), strides=2, activation='relu')(x)\n",
    "\n",
    "x = Conv2D(32, (3, 3), activation='relu', padding='same')(i)\n",
    "x = BatchNormalization()(x)\n",
    "x = Conv2D(32, (3, 3), activation='relu', padding='same')(x)\n",
    "x = BatchNormalization()(x)\n",
    "x = MaxPooling2D((2, 2))(x)\n",
    "# x = Dropout(0.2)(x)\n",
    "x = Conv2D(64, (3, 3), activation='relu', padding='same')(x)\n",
    "x = BatchNormalization()(x)\n",
    "x = Conv2D(64, (3, 3), activation='relu', padding='same')(x)\n",
    "x = BatchNormalization()(x)\n",
    "x = MaxPooling2D((2, 2))(x)\n",
    "# x = Dropout(0.2)(x)\n",
    "x = Conv2D(128, (3, 3), activation='relu', padding='same')(x)\n",
    "x = BatchNormalization()(x)\n",
    "x = Conv2D(128, (3, 3), activation='relu', padding='same')(x)\n",
    "x = BatchNormalization()(x)\n",
    "x = MaxPooling2D((2, 2))(x)\n",
    "# x = Dropout(0.2)(x)\n",
    "\n",
    "# x = GlobalMaxPooling2D()(x)\n",
    "x = Flatten()(x)\n",
    "x = Dropout(0.2)(x)\n",
    "x = Dense(1024, activation='relu')(x)\n",
    "x = Dropout(0.2)(x)\n",
    "x = Dense(K, activation='softmax')(x)\n",
    "\n",
    "model = Model(i, x)"
   ]
  },
  {
   "cell_type": "code",
   "execution_count": 7,
   "metadata": {},
   "outputs": [],
   "source": [
    "opt = SGD(lr=0.001, momentum=0.9)\n",
    "model.compile(loss='sparse_categorical_crossentropy', optimizer = opt, metrics =['accuracy'])"
   ]
  },
  {
   "cell_type": "code",
   "execution_count": 8,
   "metadata": {},
   "outputs": [
    {
     "name": "stdout",
     "output_type": "stream",
     "text": [
      "Epoch 1/50\n",
      "1563/1563 [==============================] - 10s 6ms/step - loss: 3.8162 - accuracy: 0.1416 - val_loss: 3.1715 - val_accuracy: 0.2381\n",
      "Epoch 2/50\n",
      "1563/1563 [==============================] - 9s 6ms/step - loss: 3.0270 - accuracy: 0.2586 - val_loss: 2.9010 - val_accuracy: 0.2890\n",
      "Epoch 3/50\n",
      "1563/1563 [==============================] - 10s 6ms/step - loss: 2.6094 - accuracy: 0.3378 - val_loss: 2.5101 - val_accuracy: 0.3581\n",
      "Epoch 4/50\n",
      "1563/1563 [==============================] - 10s 6ms/step - loss: 2.3047 - accuracy: 0.4031 - val_loss: 2.3186 - val_accuracy: 0.4066\n",
      "Epoch 5/50\n",
      "1563/1563 [==============================] - 10s 6ms/step - loss: 2.0668 - accuracy: 0.4531 - val_loss: 2.1810 - val_accuracy: 0.4322\n",
      "Epoch 6/50\n",
      "1563/1563 [==============================] - 10s 6ms/step - loss: 1.8825 - accuracy: 0.4932 - val_loss: 2.0578 - val_accuracy: 0.4604\n",
      "Epoch 7/50\n",
      "1563/1563 [==============================] - 10s 6ms/step - loss: 1.7203 - accuracy: 0.5272 - val_loss: 2.0728 - val_accuracy: 0.4547\n",
      "Epoch 8/50\n",
      "1563/1563 [==============================] - 10s 6ms/step - loss: 1.5733 - accuracy: 0.5662 - val_loss: 1.9809 - val_accuracy: 0.4776\n",
      "Epoch 9/50\n",
      "1563/1563 [==============================] - 10s 6ms/step - loss: 1.4329 - accuracy: 0.6007 - val_loss: 1.9140 - val_accuracy: 0.4982\n",
      "Epoch 10/50\n",
      "1563/1563 [==============================] - 10s 7ms/step - loss: 1.3088 - accuracy: 0.6293 - val_loss: 1.9142 - val_accuracy: 0.4987\n",
      "Epoch 11/50\n",
      "1563/1563 [==============================] - 10s 6ms/step - loss: 1.1900 - accuracy: 0.6573 - val_loss: 1.9231 - val_accuracy: 0.5050\n",
      "Epoch 12/50\n",
      "1563/1563 [==============================] - 10s 6ms/step - loss: 1.0707 - accuracy: 0.6901 - val_loss: 1.9041 - val_accuracy: 0.5109\n",
      "Epoch 13/50\n",
      "1563/1563 [==============================] - 10s 6ms/step - loss: 0.9737 - accuracy: 0.7155 - val_loss: 1.8834 - val_accuracy: 0.5192\n",
      "Epoch 14/50\n",
      "1563/1563 [==============================] - 10s 6ms/step - loss: 0.8680 - accuracy: 0.7404 - val_loss: 1.9130 - val_accuracy: 0.5156\n",
      "Epoch 15/50\n",
      "1563/1563 [==============================] - 10s 6ms/step - loss: 0.7819 - accuracy: 0.7643 - val_loss: 1.9364 - val_accuracy: 0.5177\n",
      "Epoch 16/50\n",
      "1563/1563 [==============================] - 10s 7ms/step - loss: 0.6946 - accuracy: 0.7903 - val_loss: 1.9928 - val_accuracy: 0.5132\n",
      "Epoch 17/50\n",
      "1563/1563 [==============================] - 14s 9ms/step - loss: 0.6203 - accuracy: 0.8082 - val_loss: 1.9562 - val_accuracy: 0.5296\n",
      "Epoch 18/50\n",
      "1563/1563 [==============================] - 16s 10ms/step - loss: 0.5504 - accuracy: 0.8313 - val_loss: 1.9928 - val_accuracy: 0.5278\n",
      "Epoch 19/50\n",
      "1563/1563 [==============================] - 16s 10ms/step - loss: 0.4875 - accuracy: 0.8496 - val_loss: 1.9958 - val_accuracy: 0.5330\n",
      "Epoch 20/50\n",
      "1563/1563 [==============================] - 16s 10ms/step - loss: 0.4426 - accuracy: 0.8606 - val_loss: 2.0486 - val_accuracy: 0.5276\n",
      "Epoch 21/50\n",
      "1563/1563 [==============================] - 16s 11ms/step - loss: 0.3953 - accuracy: 0.8776 - val_loss: 2.0980 - val_accuracy: 0.5293\n",
      "Epoch 22/50\n",
      "1563/1563 [==============================] - 16s 10ms/step - loss: 0.3591 - accuracy: 0.8880 - val_loss: 2.1099 - val_accuracy: 0.5280\n",
      "Epoch 23/50\n",
      "1563/1563 [==============================] - 14s 9ms/step - loss: 0.3180 - accuracy: 0.8996 - val_loss: 2.1944 - val_accuracy: 0.5170\n",
      "Epoch 24/50\n",
      "1563/1563 [==============================] - 15s 10ms/step - loss: 0.2899 - accuracy: 0.9094 - val_loss: 2.1949 - val_accuracy: 0.5228\n",
      "Epoch 25/50\n",
      "1563/1563 [==============================] - 15s 9ms/step - loss: 0.2641 - accuracy: 0.9174 - val_loss: 2.2138 - val_accuracy: 0.5269\n",
      "Epoch 26/50\n",
      "1563/1563 [==============================] - 17s 11ms/step - loss: 0.2456 - accuracy: 0.9231 - val_loss: 2.2730 - val_accuracy: 0.5185\n",
      "Epoch 27/50\n",
      "1563/1563 [==============================] - 18s 12ms/step - loss: 0.2242 - accuracy: 0.9275 - val_loss: 2.2645 - val_accuracy: 0.5285\n",
      "Epoch 28/50\n",
      "1563/1563 [==============================] - 20s 13ms/step - loss: 0.2147 - accuracy: 0.9319 - val_loss: 2.2891 - val_accuracy: 0.5274\n",
      "Epoch 29/50\n",
      "1563/1563 [==============================] - 18s 12ms/step - loss: 0.1957 - accuracy: 0.9376 - val_loss: 2.2927 - val_accuracy: 0.5334\n",
      "Epoch 30/50\n",
      "1563/1563 [==============================] - 19s 12ms/step - loss: 0.1807 - accuracy: 0.9426 - val_loss: 2.3093 - val_accuracy: 0.5342\n",
      "Epoch 31/50\n",
      "1563/1563 [==============================] - 20s 12ms/step - loss: 0.1667 - accuracy: 0.9470 - val_loss: 2.3500 - val_accuracy: 0.5295\n",
      "Epoch 32/50\n",
      "1563/1563 [==============================] - 19s 12ms/step - loss: 0.1636 - accuracy: 0.9470 - val_loss: 2.3966 - val_accuracy: 0.5290\n",
      "Epoch 33/50\n",
      "1563/1563 [==============================] - 20s 13ms/step - loss: 0.1485 - accuracy: 0.9534 - val_loss: 2.3696 - val_accuracy: 0.5334\n",
      "Epoch 34/50\n",
      "1563/1563 [==============================] - 18s 11ms/step - loss: 0.1423 - accuracy: 0.9562 - val_loss: 2.3891 - val_accuracy: 0.5334\n",
      "Epoch 35/50\n",
      "1563/1563 [==============================] - 17s 11ms/step - loss: 0.1361 - accuracy: 0.9581 - val_loss: 2.4123 - val_accuracy: 0.5359\n",
      "Epoch 36/50\n",
      "1563/1563 [==============================] - 17s 11ms/step - loss: 0.1304 - accuracy: 0.9597 - val_loss: 2.3972 - val_accuracy: 0.5311\n",
      "Epoch 37/50\n",
      "1563/1563 [==============================] - 18s 11ms/step - loss: 0.1236 - accuracy: 0.9612 - val_loss: 2.4013 - val_accuracy: 0.5352\n",
      "Epoch 38/50\n",
      "1563/1563 [==============================] - 18s 11ms/step - loss: 0.1160 - accuracy: 0.9636 - val_loss: 2.4340 - val_accuracy: 0.5379\n",
      "Epoch 39/50\n",
      "1563/1563 [==============================] - 20s 13ms/step - loss: 0.1086 - accuracy: 0.9661 - val_loss: 2.4507 - val_accuracy: 0.5365\n",
      "Epoch 40/50\n",
      "1563/1563 [==============================] - 16s 10ms/step - loss: 0.1029 - accuracy: 0.9680 - val_loss: 2.4468 - val_accuracy: 0.5369\n",
      "Epoch 41/50\n",
      "1563/1563 [==============================] - 15s 10ms/step - loss: 0.1011 - accuracy: 0.9690 - val_loss: 2.4540 - val_accuracy: 0.5374\n",
      "Epoch 42/50\n",
      "1563/1563 [==============================] - 17s 11ms/step - loss: 0.0972 - accuracy: 0.9703 - val_loss: 2.5220 - val_accuracy: 0.5364\n",
      "Epoch 43/50\n",
      "1563/1563 [==============================] - 18s 12ms/step - loss: 0.0935 - accuracy: 0.9707 - val_loss: 2.5308 - val_accuracy: 0.5308\n",
      "Epoch 44/50\n",
      "1563/1563 [==============================] - 17s 11ms/step - loss: 0.0909 - accuracy: 0.9719 - val_loss: 2.5348 - val_accuracy: 0.5366\n",
      "Epoch 45/50\n",
      "1563/1563 [==============================] - 17s 11ms/step - loss: 0.0868 - accuracy: 0.9730 - val_loss: 2.5002 - val_accuracy: 0.5436\n",
      "Epoch 46/50\n",
      "1563/1563 [==============================] - 18s 11ms/step - loss: 0.0836 - accuracy: 0.9734 - val_loss: 2.5199 - val_accuracy: 0.5466\n",
      "Epoch 47/50\n",
      "1563/1563 [==============================] - 17s 11ms/step - loss: 0.0836 - accuracy: 0.9740 - val_loss: 2.5353 - val_accuracy: 0.5402\n",
      "Epoch 48/50\n",
      "1563/1563 [==============================] - 18s 12ms/step - loss: 0.0804 - accuracy: 0.9757 - val_loss: 2.5397 - val_accuracy: 0.5430\n",
      "Epoch 49/50\n",
      "1563/1563 [==============================] - 17s 11ms/step - loss: 0.0769 - accuracy: 0.9758 - val_loss: 2.6054 - val_accuracy: 0.5392\n",
      "Epoch 50/50\n",
      "1563/1563 [==============================] - 17s 11ms/step - loss: 0.0738 - accuracy: 0.9777 - val_loss: 2.5747 - val_accuracy: 0.5378\n"
     ]
    },
    {
     "data": {
      "text/plain": [
       "<tensorflow.python.keras.callbacks.History at 0x263b0c23d48>"
      ]
     },
     "execution_count": 8,
     "metadata": {},
     "output_type": "execute_result"
    }
   ],
   "source": [
    "model.fit(x_train, y_train, validation_data = (x_test, y_test), epochs= 50)"
   ]
  },
  {
   "cell_type": "code",
   "execution_count": 9,
   "metadata": {},
   "outputs": [
    {
     "data": {
      "text/plain": [
       "<matplotlib.legend.Legend at 0x263c0216e48>"
      ]
     },
     "execution_count": 9,
     "metadata": {},
     "output_type": "execute_result"
    },
    {
     "data": {
      "image/png": "[encoded data removed]",
      "text/plain": [
       "<Figure size 432x288 with 1 Axes>"
      ]
     },
     "metadata": {
      "needs_background": "light"
     },
     "output_type": "display_data"
    }
   ],
   "source": [
    "history = model.history.history\n",
    "plt.plot(history['accuracy'], label='accuracy')\n",
    "plt.plot(history['val_accuracy'], label='val_accuracy')\n",
    "plt.legend()"
   ]
  },
  {
   "cell_type": "code",
   "execution_count": 10,
   "metadata": {},
   "outputs": [
    {
     "name": "stdout",
     "output_type": "stream",
     "text": [
      "313/313 [==============================] - 1s 4ms/step - loss: 2.5747 - accuracy: 0.5378\n"
     ]
    },
    {
     "data": {
      "text/plain": [
       "[2.5746636390686035, 0.5378000140190125]"
      ]
     },
     "execution_count": 10,
     "metadata": {},
     "output_type": "execute_result"
    }
   ],
   "source": [
    "model.evaluate(x_test, y_test)"
   ]
  },
  {
   "cell_type": "code",
   "execution_count": 11,
   "metadata": {},
   "outputs": [],
   "source": [
    "predictions = np.argmax(model.predict(x_test), axis=-1)"
   ]
  },
  {
   "cell_type": "code",
   "execution_count": 12,
   "metadata": {},
   "outputs": [
    {
     "name": "stdout",
     "output_type": "stream",
     "text": [
      "Confusion Matrix:\n",
      "tf.Tensor(\n",
      "[[80  0  2 ...  0  1  0]\n",
      " [ 0 69  1 ...  0  0  0]\n",
      " [ 0  1 34 ...  0  7  1]\n",
      " ...\n",
      " [ 0  0  2 ... 57  0  0]\n",
      " [ 2  0  5 ...  0 31  0]\n",
      " [ 0  1  0 ...  0  0 57]], shape=(100, 100), dtype=int32)\n"
     ]
    }
   ],
   "source": [
    "print('Confusion Matrix:')\n",
    "print(tf.math.confusion_matrix(predictions, y_test))"
   ]
  },
  {
   "cell_type": "code",
   "execution_count": 13,
   "metadata": {},
   "outputs": [],
   "source": [
    "wrong_predictions_indexes = np.where(np.array(predictions == y_test) == False)[0]"
   ]
  },
  {
   "cell_type": "code",
   "execution_count": 14,
   "metadata": {},
   "outputs": [
    {
     "name": "stdout",
     "output_type": "stream",
     "text": [
      "index:3143\n",
      "predicted value: 3, Actual value:4\n"
     ]
    },
    {
     "data": {
      "image/png": "[encoded data removed]",
      "text/plain": [
       "<Figure size 432x288 with 1 Axes>"
      ]
     },
     "metadata": {
      "needs_background": "light"
     },
     "output_type": "display_data"
    }
   ],
   "source": [
    "index = np.random.choice(wrong_predictions_indexes)\n",
    "plt.imshow(x_test[index])\n",
    "print(f'index:{index}')\n",
    "print(f'predicted value: {predictions[index]}, Actual value:{y_test[index]}')"
   ]
  },
  {
   "cell_type": "code",
   "execution_count": 15,
   "metadata": {},
   "outputs": [
    {
     "name": "stdout",
     "output_type": "stream",
     "text": [
      "Epoch 1/50\n",
      "1562/1562 [==============================] - 23s 15ms/step - loss: 2.0091 - accuracy: 0.5053 - val_loss: 2.0723 - val_accuracy: 0.4911\n",
      "Epoch 2/50\n",
      "1562/1562 [==============================] - 23s 15ms/step - loss: 1.7391 - accuracy: 0.5408 - val_loss: 1.9058 - val_accuracy: 0.5188\n",
      "Epoch 3/50\n",
      "1562/1562 [==============================] - 23s 15ms/step - loss: 1.6380 - accuracy: 0.5614 - val_loss: 1.8876 - val_accuracy: 0.5162\n",
      "Epoch 4/50\n",
      "1562/1562 [==============================] - 23s 15ms/step - loss: 1.5626 - accuracy: 0.5766 - val_loss: 1.8271 - val_accuracy: 0.5254\n",
      "Epoch 5/50\n",
      "1562/1562 [==============================] - 24s 15ms/step - loss: 1.4922 - accuracy: 0.5907 - val_loss: 1.7585 - val_accuracy: 0.5405\n",
      "Epoch 6/50\n",
      "1562/1562 [==============================] - 23s 15ms/step - loss: 1.4298 - accuracy: 0.6063 - val_loss: 1.7516 - val_accuracy: 0.5428\n",
      "Epoch 7/50\n",
      "1562/1562 [==============================] - 19s 12ms/step - loss: 1.3938 - accuracy: 0.6112 - val_loss: 1.7484 - val_accuracy: 0.5446\n",
      "Epoch 8/50\n",
      "1562/1562 [==============================] - 18s 11ms/step - loss: 1.3476 - accuracy: 0.6226 - val_loss: 1.7085 - val_accuracy: 0.5551\n",
      "Epoch 9/50\n",
      "1562/1562 [==============================] - 17s 11ms/step - loss: 1.3022 - accuracy: 0.6303 - val_loss: 1.7022 - val_accuracy: 0.5575\n",
      "Epoch 10/50\n",
      "1562/1562 [==============================] - 18s 11ms/step - loss: 1.2673 - accuracy: 0.6434 - val_loss: 1.6655 - val_accuracy: 0.5617\n",
      "Epoch 11/50\n",
      "1562/1562 [==============================] - 18s 11ms/step - loss: 1.2320 - accuracy: 0.6491 - val_loss: 1.6901 - val_accuracy: 0.5601\n",
      "Epoch 12/50\n",
      "1562/1562 [==============================] - 18s 11ms/step - loss: 1.2105 - accuracy: 0.6537 - val_loss: 1.6368 - val_accuracy: 0.5695\n",
      "Epoch 13/50\n",
      "1562/1562 [==============================] - 18s 11ms/step - loss: 1.1763 - accuracy: 0.6617 - val_loss: 1.6346 - val_accuracy: 0.5727\n",
      "Epoch 14/50\n",
      "1562/1562 [==============================] - 18s 11ms/step - loss: 1.1501 - accuracy: 0.6701 - val_loss: 1.6192 - val_accuracy: 0.5754\n",
      "Epoch 15/50\n",
      "1562/1562 [==============================] - 18s 11ms/step - loss: 1.1303 - accuracy: 0.6743 - val_loss: 1.6478 - val_accuracy: 0.5715\n",
      "Epoch 16/50\n",
      "1562/1562 [==============================] - 18s 11ms/step - loss: 1.1065 - accuracy: 0.6798 - val_loss: 1.6119 - val_accuracy: 0.5821\n",
      "Epoch 17/50\n",
      "1562/1562 [==============================] - 18s 12ms/step - loss: 1.0869 - accuracy: 0.6843 - val_loss: 1.6287 - val_accuracy: 0.5839\n",
      "Epoch 18/50\n",
      "1562/1562 [==============================] - 18s 11ms/step - loss: 1.0626 - accuracy: 0.6915 - val_loss: 1.5754 - val_accuracy: 0.5855\n",
      "Epoch 19/50\n",
      "1562/1562 [==============================] - 18s 11ms/step - loss: 1.0399 - accuracy: 0.6956 - val_loss: 1.6829 - val_accuracy: 0.5663\n",
      "Epoch 20/50\n",
      "1562/1562 [==============================] - 18s 11ms/step - loss: 1.0157 - accuracy: 0.7028 - val_loss: 1.6184 - val_accuracy: 0.5820\n",
      "Epoch 21/50\n",
      "1562/1562 [==============================] - 18s 11ms/step - loss: 1.0051 - accuracy: 0.7028 - val_loss: 1.5953 - val_accuracy: 0.5851\n",
      "Epoch 22/50\n",
      "1562/1562 [==============================] - 18s 11ms/step - loss: 0.9882 - accuracy: 0.7068 - val_loss: 1.6074 - val_accuracy: 0.5891\n",
      "Epoch 23/50\n",
      "1562/1562 [==============================] - 18s 11ms/step - loss: 0.9728 - accuracy: 0.7113 - val_loss: 1.6055 - val_accuracy: 0.5851\n",
      "Epoch 24/50\n",
      "1562/1562 [==============================] - 18s 11ms/step - loss: 0.9542 - accuracy: 0.7177 - val_loss: 1.5903 - val_accuracy: 0.5916\n",
      "Epoch 25/50\n",
      "1562/1562 [==============================] - 18s 12ms/step - loss: 0.9394 - accuracy: 0.7217 - val_loss: 1.6241 - val_accuracy: 0.5816\n",
      "Epoch 26/50\n",
      "1562/1562 [==============================] - 18s 11ms/step - loss: 0.9160 - accuracy: 0.7255 - val_loss: 1.5832 - val_accuracy: 0.5920\n",
      "Epoch 27/50\n",
      "1562/1562 [==============================] - 18s 11ms/step - loss: 0.8905 - accuracy: 0.7329 - val_loss: 1.6035 - val_accuracy: 0.5881\n",
      "Epoch 28/50\n",
      "1562/1562 [==============================] - 18s 11ms/step - loss: 0.8857 - accuracy: 0.7337 - val_loss: 1.5696 - val_accuracy: 0.5976\n",
      "Epoch 29/50\n",
      "1562/1562 [==============================] - 18s 11ms/step - loss: 0.8783 - accuracy: 0.7356 - val_loss: 1.5667 - val_accuracy: 0.5942\n",
      "Epoch 30/50\n",
      "1562/1562 [==============================] - 18s 12ms/step - loss: 0.8742 - accuracy: 0.7368 - val_loss: 1.5903 - val_accuracy: 0.5935\n",
      "Epoch 31/50\n",
      "1562/1562 [==============================] - 18s 11ms/step - loss: 0.8608 - accuracy: 0.7415 - val_loss: 1.5730 - val_accuracy: 0.5930\n",
      "Epoch 32/50\n",
      "1562/1562 [==============================] - 18s 11ms/step - loss: 0.8388 - accuracy: 0.7464 - val_loss: 1.5662 - val_accuracy: 0.5978\n",
      "Epoch 33/50\n",
      "1562/1562 [==============================] - 18s 11ms/step - loss: 0.8331 - accuracy: 0.7479 - val_loss: 1.5970 - val_accuracy: 0.5949\n",
      "Epoch 34/50\n",
      "1562/1562 [==============================] - 18s 11ms/step - loss: 0.8236 - accuracy: 0.7503 - val_loss: 1.5418 - val_accuracy: 0.6036\n",
      "Epoch 35/50\n",
      "1562/1562 [==============================] - 18s 12ms/step - loss: 0.7984 - accuracy: 0.7582 - val_loss: 1.6054 - val_accuracy: 0.5956\n",
      "Epoch 36/50\n",
      "1562/1562 [==============================] - 18s 11ms/step - loss: 0.7893 - accuracy: 0.7580 - val_loss: 1.5949 - val_accuracy: 0.5971\n",
      "Epoch 37/50\n",
      "1562/1562 [==============================] - 18s 11ms/step - loss: 0.7748 - accuracy: 0.7654 - val_loss: 1.6141 - val_accuracy: 0.5949\n",
      "Epoch 38/50\n",
      "1562/1562 [==============================] - 18s 11ms/step - loss: 0.7701 - accuracy: 0.7635 - val_loss: 1.5688 - val_accuracy: 0.6009\n",
      "Epoch 39/50\n",
      "1562/1562 [==============================] - 18s 11ms/step - loss: 0.7551 - accuracy: 0.7678 - val_loss: 1.5506 - val_accuracy: 0.6047\n",
      "Epoch 40/50\n",
      "1562/1562 [==============================] - 18s 12ms/step - loss: 0.7351 - accuracy: 0.7738 - val_loss: 1.5831 - val_accuracy: 0.5979\n",
      "Epoch 41/50\n",
      "1562/1562 [==============================] - 18s 11ms/step - loss: 0.7370 - accuracy: 0.7731 - val_loss: 1.6226 - val_accuracy: 0.5963\n",
      "Epoch 42/50\n",
      "1562/1562 [==============================] - 18s 11ms/step - loss: 0.7257 - accuracy: 0.7760 - val_loss: 1.5535 - val_accuracy: 0.6033\n",
      "Epoch 43/50\n",
      "1562/1562 [==============================] - 18s 11ms/step - loss: 0.7140 - accuracy: 0.7796 - val_loss: 1.5757 - val_accuracy: 0.6041\n",
      "Epoch 44/50\n",
      "1562/1562 [==============================] - 18s 11ms/step - loss: 0.7088 - accuracy: 0.7814 - val_loss: 1.5904 - val_accuracy: 0.5984\n",
      "Epoch 45/50\n",
      "1562/1562 [==============================] - 18s 11ms/step - loss: 0.6992 - accuracy: 0.7862 - val_loss: 1.5830 - val_accuracy: 0.5974\n",
      "Epoch 46/50\n",
      "1562/1562 [==============================] - 18s 11ms/step - loss: 0.6908 - accuracy: 0.7871 - val_loss: 1.6070 - val_accuracy: 0.5974\n",
      "Epoch 47/50\n",
      "1562/1562 [==============================] - 18s 11ms/step - loss: 0.6846 - accuracy: 0.7874 - val_loss: 1.5743 - val_accuracy: 0.6075\n",
      "Epoch 48/50\n",
      "1562/1562 [==============================] - 18s 11ms/step - loss: 0.6833 - accuracy: 0.7879 - val_loss: 1.5664 - val_accuracy: 0.6065\n",
      "Epoch 49/50\n",
      "1562/1562 [==============================] - 18s 11ms/step - loss: 0.6560 - accuracy: 0.7972 - val_loss: 1.5939 - val_accuracy: 0.6020\n",
      "Epoch 50/50\n",
      "1562/1562 [==============================] - 18s 11ms/step - loss: 0.6517 - accuracy: 0.7985 - val_loss: 1.5718 - val_accuracy: 0.6057\n"
     ]
    }
   ],
   "source": [
    "# Fit with data augmentation\n",
    "# Note: if you run this AFTER calling the previous model.fit(), it will CONTINUE training where it left off\n",
    "batch_size = 32\n",
    "data_generator = tf.keras.preprocessing.image.ImageDataGenerator(width_shift_range=0.1, height_shift_range=0.1, horizontal_flip=True)\n",
    "train_generator = data_generator.flow(x_train, y_train, batch_size)\n",
    "steps_per_epoch = x_train.shape[0] // batch_size\n",
    "r = model.fit(train_generator, validation_data=(x_test, y_test), steps_per_epoch=steps_per_epoch, epochs=50)"
   ]
  }
 ],
 "metadata": {
  "kernelspec": {
   "display_name": "Python 3",
   "language": "python",
   "name": "python3"
  },
  "language_info": {
   "codemirror_mode": {
    "name": "ipython",
    "version": 3
   },
   "file_extension": ".py",
   "mimetype": "text/x-python",
   "name": "python",
   "nbconvert_exporter": "python",
   "pygments_lexer": "ipython3",
   "version": "3.7.6"
  }
 },
 "nbformat": 4,
 "nbformat_minor": 4
}
